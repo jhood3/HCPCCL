{
 "cells": [
  {
   "cell_type": "code",
   "execution_count": 2,
   "metadata": {},
   "outputs": [],
   "source": [
    "using JLD\n",
    "using CSV\n",
    "using DataFrames"
   ]
  },
  {
   "cell_type": "code",
   "execution_count": 5,
   "metadata": {},
   "outputs": [
    {
     "ename": "MethodError",
     "evalue": "MethodError: Cannot `convert` an object of type DataFrame to an object of type Matrix{Int64}\n\nClosest candidates are:\n  convert(::Type{T}, !Matched::LinearAlgebra.Factorization) where T<:AbstractArray\n   @ LinearAlgebra /Applications/Julia-1.9.app/Contents/Resources/julia/share/julia/stdlib/v1.9/LinearAlgebra/src/factorization.jl:59\n  convert(::Type{Array{S, N}}, !Matched::PooledArrays.PooledArray{T, R, N}) where {S, T, R, N}\n   @ PooledArrays ~/.julia/packages/PooledArrays/Vy2X0/src/PooledArrays.jl:499\n  convert(::Type{T}, !Matched::AbstractArray) where T<:Array\n   @ Base array.jl:613\n  ...\n",
     "output_type": "error",
     "traceback": [
      "MethodError: Cannot `convert` an object of type DataFrame to an object of type Matrix{Int64}\n",
      "\n",
      "Closest candidates are:\n",
      "  convert(::Type{T}, !Matched::LinearAlgebra.Factorization) where T<:AbstractArray\n",
      "   @ LinearAlgebra /Applications/Julia-1.9.app/Contents/Resources/julia/share/julia/stdlib/v1.9/LinearAlgebra/src/factorization.jl:59\n",
      "  convert(::Type{Array{S, N}}, !Matched::PooledArrays.PooledArray{T, R, N}) where {S, T, R, N}\n",
      "   @ PooledArrays ~/.julia/packages/PooledArrays/Vy2X0/src/PooledArrays.jl:499\n",
      "  convert(::Type{T}, !Matched::AbstractArray) where T<:Array\n",
      "   @ Base array.jl:613\n",
      "  ...\n",
      "\n",
      "\n",
      "Stacktrace:\n",
      " [1] top-level scope\n",
      "   @ Untitled-1.ipynb:2"
     ]
    }
   ],
   "source": [
    "sparse_x = CSV.read(\"FARMM/sparse_XFARMM.csv\", DataFrame)\n",
    "sparse_X = convert(Matrix{Int64}, sparse_x)"
   ]
  },
  {
   "cell_type": "code",
   "execution_count": 6,
   "metadata": {},
   "outputs": [
    {
     "data": {
      "text/html": [
       "<div><div style = \"float: left;\"><span>41084×4 DataFrame</span></div><div style = \"float: right;\"><span style = \"font-style: italic;\">41059 rows omitted</span></div><div style = \"clear: both;\"></div></div><div class = \"data-frame\" style = \"overflow-x: scroll;\"><table class = \"data-frame\" style = \"margin-bottom: 6px;\"><thead><tr class = \"header\"><th class = \"rowNumber\" style = \"font-weight: bold; text-align: right;\">Row</th><th style = \"text-align: left;\">V1</th><th style = \"text-align: left;\">V2</th><th style = \"text-align: left;\">V3</th><th style = \"text-align: left;\">V4</th></tr><tr class = \"subheader headerLastRow\"><th class = \"rowNumber\" style = \"font-weight: bold; text-align: right;\"></th><th title = \"Int64\" style = \"text-align: left;\">Int64</th><th title = \"Int64\" style = \"text-align: left;\">Int64</th><th title = \"Int64\" style = \"text-align: left;\">Int64</th><th title = \"Int64\" style = \"text-align: left;\">Int64</th></tr></thead><tbody><tr><td class = \"rowNumber\" style = \"font-weight: bold; text-align: right;\">1</td><td style = \"text-align: right;\">1</td><td style = \"text-align: right;\">1</td><td style = \"text-align: right;\">1</td><td style = \"text-align: right;\">-1</td></tr><tr><td class = \"rowNumber\" style = \"font-weight: bold; text-align: right;\">2</td><td style = \"text-align: right;\">1</td><td style = \"text-align: right;\">1</td><td style = \"text-align: right;\">8</td><td style = \"text-align: right;\">77</td></tr><tr><td class = \"rowNumber\" style = \"font-weight: bold; text-align: right;\">3</td><td style = \"text-align: right;\">1</td><td style = \"text-align: right;\">1</td><td style = \"text-align: right;\">9</td><td style = \"text-align: right;\">-1</td></tr><tr><td class = \"rowNumber\" style = \"font-weight: bold; text-align: right;\">4</td><td style = \"text-align: right;\">1</td><td style = \"text-align: right;\">2</td><td style = \"text-align: right;\">6</td><td style = \"text-align: right;\">-1</td></tr><tr><td class = \"rowNumber\" style = \"font-weight: bold; text-align: right;\">5</td><td style = \"text-align: right;\">1</td><td style = \"text-align: right;\">3</td><td style = \"text-align: right;\">1</td><td style = \"text-align: right;\">-1</td></tr><tr><td class = \"rowNumber\" style = \"font-weight: bold; text-align: right;\">6</td><td style = \"text-align: right;\">1</td><td style = \"text-align: right;\">3</td><td style = \"text-align: right;\">9</td><td style = \"text-align: right;\">-1</td></tr><tr><td class = \"rowNumber\" style = \"font-weight: bold; text-align: right;\">7</td><td style = \"text-align: right;\">1</td><td style = \"text-align: right;\">4</td><td style = \"text-align: right;\">2</td><td style = \"text-align: right;\">-1</td></tr><tr><td class = \"rowNumber\" style = \"font-weight: bold; text-align: right;\">8</td><td style = \"text-align: right;\">1</td><td style = \"text-align: right;\">4</td><td style = \"text-align: right;\">6</td><td style = \"text-align: right;\">-1</td></tr><tr><td class = \"rowNumber\" style = \"font-weight: bold; text-align: right;\">9</td><td style = \"text-align: right;\">1</td><td style = \"text-align: right;\">6</td><td style = \"text-align: right;\">1</td><td style = \"text-align: right;\">-1</td></tr><tr><td class = \"rowNumber\" style = \"font-weight: bold; text-align: right;\">10</td><td style = \"text-align: right;\">1</td><td style = \"text-align: right;\">6</td><td style = \"text-align: right;\">9</td><td style = \"text-align: right;\">-1</td></tr><tr><td class = \"rowNumber\" style = \"font-weight: bold; text-align: right;\">11</td><td style = \"text-align: right;\">1</td><td style = \"text-align: right;\">7</td><td style = \"text-align: right;\">3</td><td style = \"text-align: right;\">-1</td></tr><tr><td class = \"rowNumber\" style = \"font-weight: bold; text-align: right;\">12</td><td style = \"text-align: right;\">1</td><td style = \"text-align: right;\">7</td><td style = \"text-align: right;\">15</td><td style = \"text-align: right;\">-1</td></tr><tr><td class = \"rowNumber\" style = \"font-weight: bold; text-align: right;\">13</td><td style = \"text-align: right;\">1</td><td style = \"text-align: right;\">8</td><td style = \"text-align: right;\">8</td><td style = \"text-align: right;\">-1</td></tr><tr><td style = \"text-align: right;\">&vellip;</td><td style = \"text-align: right;\">&vellip;</td><td style = \"text-align: right;\">&vellip;</td><td style = \"text-align: right;\">&vellip;</td><td style = \"text-align: right;\">&vellip;</td></tr><tr><td class = \"rowNumber\" style = \"font-weight: bold; text-align: right;\">41073</td><td style = \"text-align: right;\">343</td><td style = \"text-align: right;\">27</td><td style = \"text-align: right;\">7</td><td style = \"text-align: right;\">49350</td></tr><tr><td class = \"rowNumber\" style = \"font-weight: bold; text-align: right;\">41074</td><td style = \"text-align: right;\">343</td><td style = \"text-align: right;\">27</td><td style = \"text-align: right;\">8</td><td style = \"text-align: right;\">62481</td></tr><tr><td class = \"rowNumber\" style = \"font-weight: bold; text-align: right;\">41075</td><td style = \"text-align: right;\">343</td><td style = \"text-align: right;\">29</td><td style = \"text-align: right;\">1</td><td style = \"text-align: right;\">770</td></tr><tr><td class = \"rowNumber\" style = \"font-weight: bold; text-align: right;\">41076</td><td style = \"text-align: right;\">343</td><td style = \"text-align: right;\">29</td><td style = \"text-align: right;\">2</td><td style = \"text-align: right;\">196</td></tr><tr><td class = \"rowNumber\" style = \"font-weight: bold; text-align: right;\">41077</td><td style = \"text-align: right;\">343</td><td style = \"text-align: right;\">29</td><td style = \"text-align: right;\">3</td><td style = \"text-align: right;\">1986</td></tr><tr><td class = \"rowNumber\" style = \"font-weight: bold; text-align: right;\">41078</td><td style = \"text-align: right;\">343</td><td style = \"text-align: right;\">29</td><td style = \"text-align: right;\">4</td><td style = \"text-align: right;\">38</td></tr><tr><td class = \"rowNumber\" style = \"font-weight: bold; text-align: right;\">41079</td><td style = \"text-align: right;\">343</td><td style = \"text-align: right;\">29</td><td style = \"text-align: right;\">5</td><td style = \"text-align: right;\">2</td></tr><tr><td class = \"rowNumber\" style = \"font-weight: bold; text-align: right;\">41080</td><td style = \"text-align: right;\">343</td><td style = \"text-align: right;\">30</td><td style = \"text-align: right;\">2</td><td style = \"text-align: right;\">518</td></tr><tr><td class = \"rowNumber\" style = \"font-weight: bold; text-align: right;\">41081</td><td style = \"text-align: right;\">343</td><td style = \"text-align: right;\">30</td><td style = \"text-align: right;\">3</td><td style = \"text-align: right;\">169</td></tr><tr><td class = \"rowNumber\" style = \"font-weight: bold; text-align: right;\">41082</td><td style = \"text-align: right;\">343</td><td style = \"text-align: right;\">30</td><td style = \"text-align: right;\">5</td><td style = \"text-align: right;\">61</td></tr><tr><td class = \"rowNumber\" style = \"font-weight: bold; text-align: right;\">41083</td><td style = \"text-align: right;\">343</td><td style = \"text-align: right;\">30</td><td style = \"text-align: right;\">6</td><td style = \"text-align: right;\">180</td></tr><tr><td class = \"rowNumber\" style = \"font-weight: bold; text-align: right;\">41084</td><td style = \"text-align: right;\">343</td><td style = \"text-align: right;\">30</td><td style = \"text-align: right;\">7</td><td style = \"text-align: right;\">57</td></tr></tbody></table></div>"
      ],
      "text/latex": [
       "\\begin{tabular}{r|cccc}\n",
       "\t& V1 & V2 & V3 & V4\\\\\n",
       "\t\\hline\n",
       "\t& Int64 & Int64 & Int64 & Int64\\\\\n",
       "\t\\hline\n",
       "\t1 & 1 & 1 & 1 & -1 \\\\\n",
       "\t2 & 1 & 1 & 8 & 77 \\\\\n",
       "\t3 & 1 & 1 & 9 & -1 \\\\\n",
       "\t4 & 1 & 2 & 6 & -1 \\\\\n",
       "\t5 & 1 & 3 & 1 & -1 \\\\\n",
       "\t6 & 1 & 3 & 9 & -1 \\\\\n",
       "\t7 & 1 & 4 & 2 & -1 \\\\\n",
       "\t8 & 1 & 4 & 6 & -1 \\\\\n",
       "\t9 & 1 & 6 & 1 & -1 \\\\\n",
       "\t10 & 1 & 6 & 9 & -1 \\\\\n",
       "\t11 & 1 & 7 & 3 & -1 \\\\\n",
       "\t12 & 1 & 7 & 15 & -1 \\\\\n",
       "\t13 & 1 & 8 & 8 & -1 \\\\\n",
       "\t14 & 1 & 8 & 15 & -1 \\\\\n",
       "\t15 & 1 & 9 & 2 & -1 \\\\\n",
       "\t16 & 1 & 9 & 8 & -1 \\\\\n",
       "\t17 & 1 & 9 & 15 & -1 \\\\\n",
       "\t18 & 1 & 10 & 1 & -1 \\\\\n",
       "\t19 & 1 & 10 & 9 & -1 \\\\\n",
       "\t20 & 1 & 11 & 9 & -1 \\\\\n",
       "\t21 & 1 & 11 & 12 & -1 \\\\\n",
       "\t22 & 1 & 12 & 2 & -1 \\\\\n",
       "\t23 & 1 & 12 & 5 & -1 \\\\\n",
       "\t24 & 1 & 13 & 1 & -1 \\\\\n",
       "\t$\\dots$ & $\\dots$ & $\\dots$ & $\\dots$ & $\\dots$ \\\\\n",
       "\\end{tabular}\n"
      ],
      "text/plain": [
       "\u001b[1m41084×4 DataFrame\u001b[0m\n",
       "\u001b[1m   Row \u001b[0m│\u001b[1m V1    \u001b[0m\u001b[1m V2    \u001b[0m\u001b[1m V3    \u001b[0m\u001b[1m V4    \u001b[0m\n",
       "       │\u001b[90m Int64 \u001b[0m\u001b[90m Int64 \u001b[0m\u001b[90m Int64 \u001b[0m\u001b[90m Int64 \u001b[0m\n",
       "───────┼────────────────────────────\n",
       "     1 │     1      1      1     -1\n",
       "     2 │     1      1      8     77\n",
       "     3 │     1      1      9     -1\n",
       "     4 │     1      2      6     -1\n",
       "     5 │     1      3      1     -1\n",
       "     6 │     1      3      9     -1\n",
       "     7 │     1      4      2     -1\n",
       "     8 │     1      4      6     -1\n",
       "   ⋮   │   ⋮      ⋮      ⋮      ⋮\n",
       " 41078 │   343     29      4     38\n",
       " 41079 │   343     29      5      2\n",
       " 41080 │   343     30      2    518\n",
       " 41081 │   343     30      3    169\n",
       " 41082 │   343     30      5     61\n",
       " 41083 │   343     30      6    180\n",
       " 41084 │   343     30      7     57\n",
       "\u001b[36m                  41069 rows omitted\u001b[0m"
      ]
     },
     "metadata": {},
     "output_type": "display_data"
    }
   ],
   "source": [
    "sparse_x"
   ]
  },
  {
   "cell_type": "code",
   "execution_count": 7,
   "metadata": {},
   "outputs": [
    {
     "data": {
      "text/plain": [
       "41084×4 Matrix{Int64}:\n",
       "   1   1  1    -1\n",
       "   1   1  8    77\n",
       "   1   1  9    -1\n",
       "   1   2  6    -1\n",
       "   1   3  1    -1\n",
       "   1   3  9    -1\n",
       "   1   4  2    -1\n",
       "   1   4  6    -1\n",
       "   1   6  1    -1\n",
       "   1   6  9    -1\n",
       "   ⋮         \n",
       " 343  29  2   196\n",
       " 343  29  3  1986\n",
       " 343  29  4    38\n",
       " 343  29  5     2\n",
       " 343  30  2   518\n",
       " 343  30  3   169\n",
       " 343  30  5    61\n",
       " 343  30  6   180\n",
       " 343  30  7    57"
      ]
     },
     "metadata": {},
     "output_type": "display_data"
    }
   ],
   "source": [
    "using DelimitedFiles\n",
    "sparse_X = readdlm(\"FARMM/sparse_XFARMM.csv\", ',', Int64, header=true)[1]"
   ]
  },
  {
   "cell_type": "code",
   "execution_count": 8,
   "metadata": {},
   "outputs": [],
   "source": [
    "Y = zeros(Int64, maximum(sparse_X[:,1]), maximum(sparse_X[:,2]), maximum(sparse_X[:,3]))\n",
    "\n",
    "for i in 1:size(sparse_X, 1)\n",
    "    Y[sparse_X[i,1], sparse_X[i,2], sparse_X[i,3]] = sparse_X[i,4]\n",
    "end"
   ]
  },
  {
   "cell_type": "code",
   "execution_count": 9,
   "metadata": {},
   "outputs": [
    {
     "data": {
      "text/plain": [
       "0.7504616132167152"
      ]
     },
     "metadata": {},
     "output_type": "display_data"
    }
   ],
   "source": [
    "using StatsBase\n",
    "mean(Y.==0)"
   ]
  },
  {
   "cell_type": "code",
   "execution_count": 10,
   "metadata": {},
   "outputs": [],
   "source": [
    "save(\"FARMM/Y.jld\", \"Y\", Y)"
   ]
  }
 ],
 "metadata": {
  "kernelspec": {
   "display_name": "Julia 1.9.1",
   "language": "julia",
   "name": "julia-1.9"
  },
  "language_info": {
   "file_extension": ".jl",
   "mimetype": "application/julia",
   "name": "julia",
   "version": "1.9.1"
  }
 },
 "nbformat": 4,
 "nbformat_minor": 2
}
